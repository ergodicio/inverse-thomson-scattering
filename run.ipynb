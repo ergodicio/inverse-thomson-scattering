{
 "cells": [
  {
   "cell_type": "markdown",
   "id": "c0e3b83b-51b6-4bef-be8c-d76544487e91",
   "metadata": {},
   "source": [
    "## Scratch Notebook for TS calculations"
   ]
  },
  {
   "cell_type": "code",
   "execution_count": 1,
   "id": "a09894eb-bb8f-44f8-b508-60b41e634c46",
   "metadata": {},
   "outputs": [],
   "source": [
    "import sys"
   ]
  },
  {
   "cell_type": "code",
   "execution_count": 2,
   "id": "04d69084-8631-4148-8fbe-a5ed9ad77a4e",
   "metadata": {
    "tags": []
   },
   "outputs": [
    {
     "name": "stdout",
     "output_type": "stream",
     "text": [
      "Requirement already satisfied: jax in /opt/conda/lib/python3.10/site-packages (from -r requirements.txt (line 1)) (0.3.15)\n",
      "Requirement already satisfied: jaxlib in /opt/conda/lib/python3.10/site-packages (from -r requirements.txt (line 2)) (0.3.15)\n",
      "Requirement already satisfied: numpy in /opt/conda/lib/python3.10/site-packages (from -r requirements.txt (line 3)) (1.22.4)\n",
      "Requirement already satisfied: scipy in /opt/conda/lib/python3.10/site-packages (from -r requirements.txt (line 4)) (1.9.0)\n",
      "Requirement already satisfied: matplotlib in /opt/conda/lib/python3.10/site-packages (from -r requirements.txt (line 5)) (3.5.2)\n",
      "Requirement already satisfied: pyhdf in /opt/conda/lib/python3.10/site-packages (from -r requirements.txt (line 6)) (0.10.5)\n",
      "Requirement already satisfied: xlrd in /opt/conda/lib/python3.10/site-packages (from -r requirements.txt (line 7)) (2.0.1)\n",
      "Requirement already satisfied: absl-py in /opt/conda/lib/python3.10/site-packages (from jax->-r requirements.txt (line 1)) (1.2.0)\n",
      "Requirement already satisfied: etils[epath] in /opt/conda/lib/python3.10/site-packages (from jax->-r requirements.txt (line 1)) (0.7.0)\n",
      "Requirement already satisfied: opt-einsum in /opt/conda/lib/python3.10/site-packages (from jax->-r requirements.txt (line 1)) (3.3.0)\n",
      "Requirement already satisfied: typing-extensions in /opt/conda/lib/python3.10/site-packages (from jax->-r requirements.txt (line 1)) (4.3.0)\n",
      "Requirement already satisfied: packaging>=20.0 in /opt/conda/lib/python3.10/site-packages (from matplotlib->-r requirements.txt (line 5)) (21.3)\n",
      "Requirement already satisfied: kiwisolver>=1.0.1 in /opt/conda/lib/python3.10/site-packages (from matplotlib->-r requirements.txt (line 5)) (1.4.4)\n",
      "Requirement already satisfied: python-dateutil>=2.7 in /opt/conda/lib/python3.10/site-packages (from matplotlib->-r requirements.txt (line 5)) (2.8.2)\n",
      "Requirement already satisfied: fonttools>=4.22.0 in /opt/conda/lib/python3.10/site-packages (from matplotlib->-r requirements.txt (line 5)) (4.34.4)\n",
      "Requirement already satisfied: cycler>=0.10 in /opt/conda/lib/python3.10/site-packages (from matplotlib->-r requirements.txt (line 5)) (0.11.0)\n",
      "Requirement already satisfied: pillow>=6.2.0 in /opt/conda/lib/python3.10/site-packages (from matplotlib->-r requirements.txt (line 5)) (9.2.0)\n",
      "Requirement already satisfied: pyparsing>=2.2.1 in /opt/conda/lib/python3.10/site-packages (from matplotlib->-r requirements.txt (line 5)) (3.0.9)\n",
      "Requirement already satisfied: six>=1.5 in /opt/conda/lib/python3.10/site-packages (from python-dateutil>=2.7->matplotlib->-r requirements.txt (line 5)) (1.16.0)\n",
      "Requirement already satisfied: importlib_resources in /opt/conda/lib/python3.10/site-packages (from etils[epath]->jax->-r requirements.txt (line 1)) (5.9.0)\n",
      "Requirement already satisfied: zipp in /opt/conda/lib/python3.10/site-packages (from etils[epath]->jax->-r requirements.txt (line 1)) (3.8.1)\n"
     ]
    }
   ],
   "source": [
    "!{sys.executable} -m pip install -r requirements.txt"
   ]
  },
  {
   "cell_type": "markdown",
   "id": "5d534b41-e515-44d7-9706-9cd67562d3a0",
   "metadata": {
    "tags": []
   },
   "source": [
    "### Initialize"
   ]
  },
  {
   "cell_type": "code",
   "execution_count": 3,
   "id": "d43ba35e-dd37-4c42-9f7a-a450f609f173",
   "metadata": {},
   "outputs": [],
   "source": [
    "import time\n",
    "import matplotlib.pyplot as plt\n",
    "from inverse_thomson_scattering.v0 import form_factor as np_ff\n",
    "from inverse_thomson_scattering import form_factor as jnp_ff\n",
    "from inverse_thomson_scattering.utils import plotting\n",
    "import numpy as np\n",
    "from scipy import special as sp"
   ]
  },
  {
   "cell_type": "code",
   "execution_count": 4,
   "id": "92c9f6fd-e596-46d5-8cf7-e68bb52637cd",
   "metadata": {},
   "outputs": [],
   "source": [
    "x = np.array(np.arange(-8, 8, 0.1))\n",
    "\n",
    "# distf = 1 / (2 * np.pi) ** (1 / 2) * np.exp(-(x**5) / 2)\n",
    "m = 2\n",
    "const = np.sqrt(3*sp.gamma(3./m)/sp.gamma(5./m))\n",
    "distf = np.exp(-(np.abs(x/const)**m))\n",
    "\n",
    "norm = np.trapz(distf) * (x[2]-x[1])\n",
    "distf = distf/norm\n",
    "\n",
    "sa = np.linspace(55, 65, 10)\n",
    "# backend = \"jax\""
   ]
  },
  {
   "cell_type": "code",
   "execution_count": 5,
   "id": "148c8b88-c55a-4fc7-ab4b-24f8963bb1bd",
   "metadata": {},
   "outputs": [
    {
     "name": "stdout",
     "output_type": "stream",
     "text": [
      "(40645,)\n",
      "[5.05227108e-15 1.11879562e-14 2.45285529e-14 5.32414837e-14\n",
      " 1.14415649e-13 2.43432053e-13 5.12775364e-13 1.06938379e-12\n",
      " 2.20798996e-12 4.51354368e-12 9.13472041e-12 1.83033222e-11\n",
      " 3.63096150e-11 7.13132812e-11 1.38667999e-10 2.66955661e-10\n",
      " 5.08814028e-10 9.60143337e-10 1.79378391e-09 3.31788424e-09\n",
      " 6.07588285e-09 1.10157636e-08 1.97731964e-08 3.51395509e-08\n",
      " 6.18262050e-08 1.07697600e-07 1.85736184e-07 3.17134922e-07\n",
      " 5.36103534e-07 8.97243516e-07 1.48671951e-06 2.43896075e-06\n",
      " 3.96129909e-06 6.36982518e-06 1.01408521e-05 1.59837411e-05\n",
      " 2.49424713e-05 3.85351967e-05 5.89430678e-05 8.92616572e-05\n",
      " 1.33830226e-04 1.98655471e-04 2.91946926e-04 4.24780271e-04\n",
      " 6.11901930e-04 8.72682695e-04 1.23221917e-03 1.72256894e-03\n",
      " 2.38408820e-03 3.26681906e-03 4.43184841e-03 5.95253242e-03\n",
      " 7.91545158e-03 1.04209348e-02 1.35829692e-02 1.75283005e-02\n",
      " 2.23945303e-02 2.83270377e-02 3.54745928e-02 4.39835960e-02\n",
      " 5.39909665e-02 6.56158148e-02 7.89501583e-02 9.40490774e-02\n",
      " 1.10920835e-01 1.29517596e-01 1.49727466e-01 1.71368592e-01\n",
      " 1.94186055e-01 2.17852177e-01 2.41970725e-01 2.66085250e-01\n",
      " 2.89691553e-01 3.12253933e-01 3.33224603e-01 3.52065327e-01\n",
      " 3.68270140e-01 3.81387815e-01 3.91042694e-01 3.96952547e-01\n",
      " 3.98942280e-01 3.96952547e-01 3.91042694e-01 3.81387815e-01\n",
      " 3.68270140e-01 3.52065327e-01 3.33224603e-01 3.12253933e-01\n",
      " 2.89691553e-01 2.66085250e-01 2.41970725e-01 2.17852177e-01\n",
      " 1.94186055e-01 1.71368592e-01 1.49727466e-01 1.29517596e-01\n",
      " 1.10920835e-01 9.40490774e-02 7.89501583e-02 6.56158148e-02\n",
      " 5.39909665e-02 4.39835960e-02 3.54745928e-02 2.83270377e-02\n",
      " 2.23945303e-02 1.75283005e-02 1.35829692e-02 1.04209348e-02\n",
      " 7.91545158e-03 5.95253242e-03 4.43184841e-03 3.26681906e-03\n",
      " 2.38408820e-03 1.72256894e-03 1.23221917e-03 8.72682695e-04\n",
      " 6.11901930e-04 4.24780271e-04 2.91946926e-04 1.98655471e-04\n",
      " 1.33830226e-04 8.92616572e-05 5.89430678e-05 3.85351967e-05\n",
      " 2.49424713e-05 1.59837411e-05 1.01408521e-05 6.36982518e-06\n",
      " 3.96129909e-06 2.43896075e-06 1.48671951e-06 8.97243516e-07\n",
      " 5.36103534e-07 3.17134922e-07 1.85736184e-07 1.07697600e-07\n",
      " 6.18262050e-08 3.51395509e-08 1.97731964e-08 1.10157636e-08\n",
      " 6.07588285e-09 3.31788424e-09 1.79378391e-09 9.60143337e-10\n",
      " 5.08814028e-10 2.66955661e-10 1.38667999e-10 7.13132812e-11\n",
      " 3.63096150e-11 1.83033222e-11 9.13472041e-12 4.51354368e-12\n",
      " 2.20798996e-12 1.06938379e-12 5.12775364e-13 2.43432053e-13\n",
      " 1.14415649e-13 5.32414837e-14 2.45285529e-14 1.11879562e-14]\n",
      "(160,)\n",
      "[[3.00848431e-10 6.04833505e-10 1.17234115e-09 ... 2.00472319e-08\n",
      "  3.26030880e-08 5.18069126e-08]\n",
      " [3.02400438e-10 6.07862630e-10 1.17804070e-09 ... 2.01311431e-08\n",
      "  3.27378353e-08 5.20146861e-08]\n",
      " [3.03960443e-10 6.10906904e-10 1.18376792e-09 ... 2.02154045e-08\n",
      "  3.28731378e-08 5.22232900e-08]\n",
      " ...\n",
      " [6.65503453e-11 1.40067133e-10 2.83387819e-10 ... 5.84592300e-09\n",
      "  9.82489180e-09 1.61135656e-08]\n",
      " [6.63469244e-11 1.39657255e-10 2.82582048e-10 ... 5.83130418e-09\n",
      "  9.80102589e-09 1.60755480e-08]\n",
      " [6.61441331e-11 1.39248592e-10 2.81778599e-10 ... 5.81672241e-09\n",
      "  9.77721877e-09 1.60376214e-08]]\n",
      "(40645, 10)\n",
      "(1, 40645, 10)\n"
     ]
    },
    {
     "name": "stderr",
     "output_type": "stream",
     "text": [
      "/home/avi/private/inverse-thomson-scattering/inverse_thomson_scattering/v0/ratintn.py:42: ComplexWarning: Casting complex values to real discards the imaginary part\n",
      "  out[:, ~iflat] = rfn[:, ~iflat]\n"
     ]
    },
    {
     "name": "stdout",
     "output_type": "stream",
     "text": [
      "numpy/scipy form factor calculation 0.3799 s\n"
     ]
    }
   ],
   "source": [
    "# if backend == \"numpy\":\n",
    "t0 = time.time()\n",
    "formf, lams = np_ff.nonMaxwThomson(1.0, 1.0, 1.0, 1.0, 1.0, 0.3e20, 0.0, 0.0, [400, 700], 526.5, sa, distf, x)\n",
    "t1 = time.time()\n",
    "print(f\"numpy/scipy form factor calculation {np.round(t1 - t0, 4)} s\")"
   ]
  },
  {
   "cell_type": "code",
   "execution_count": 6,
   "id": "517be4a6-1bf0-4ce4-9c9d-8b2794547106",
   "metadata": {},
   "outputs": [
    {
     "name": "stderr",
     "output_type": "stream",
     "text": [
      "WARNING:absl:No GPU/TPU found, falling back to CPU. (Set TF_CPP_MIN_LOG_LEVEL=0 and rerun for more info.)\n"
     ]
    },
    {
     "name": "stdout",
     "output_type": "stream",
     "text": [
      "jax form factor calculation took 0.0763 s\n"
     ]
    }
   ],
   "source": [
    "# elif backend == \"jax\":\n",
    "# get the functions\n",
    "ff_fn, vg_ff_fn = jnp_ff.get_form_factor_fn([400, 700], 526.5)\n",
    "\n",
    "# run them once so they're compiled\n",
    "_ = ff_fn(1.0, 1.0, 1.0, 1.0, 1.0, 0.3e20, 0.0, 0.0, sa, (distf, x))\n",
    "_ = vg_ff_fn(1.0, 1.0, 1.0, 1.0, 1.0, 0.3e20, 0.0, 0.0, sa, (distf, x))\n",
    "\n",
    "# then run them again to benchmark them\n",
    "# TODO: find a better way to measure this\n",
    "t0 = time.time()\n",
    "formf_jax, lams_jax = ff_fn(1.0, 1.0, 1.0, 1.0, 1.0, 0.3e20, 0.0, 0.0, sa, (distf, x))\n",
    "t1 = time.time()\n",
    "print(f\"jax form factor calculation took {np.round(t1 - t0, 4)} s\")"
   ]
  },
  {
   "cell_type": "code",
   "execution_count": 7,
   "id": "64951605-0d88-4fe7-b3c7-e8f5dbe58335",
   "metadata": {},
   "outputs": [
    {
     "name": "stdout",
     "output_type": "stream",
     "text": [
      "value and gradient took 0.1367 s\n",
      "gradient was 72329.25531709427\n"
     ]
    }
   ],
   "source": [
    "t0 = time.time()\n",
    "val, grad = vg_ff_fn(1.0, 1.0, 1.0, 1.0, 1.0, 0.3e20, 0.0, 0.0, sa, (distf, x))\n",
    "t1 = time.time()\n",
    "print(f\"value and gradient took {np.round(t1 - t0, 4)} s\")\n",
    "print(f\"gradient was {grad}\")"
   ]
  },
  {
   "cell_type": "code",
   "execution_count": 8,
   "id": "cb4af747-81e3-4e9c-a36c-8ebe8b3f0b00",
   "metadata": {},
   "outputs": [
    {
     "name": "stdout",
     "output_type": "stream",
     "text": [
      "L2 norm between jax and np/sp is 4.171008884436038\n"
     ]
    },
    {
     "data": {
      "image/png": "[encoded data removed]",
      "text/plain": [
       "<Figure size 1152x288 with 2 Axes>"
      ]
     },
     "metadata": {
      "needs_background": "light"
     },
     "output_type": "display_data"
    }
   ],
   "source": [
    "plotting.make_plots(formf, formf_jax)"
   ]
  },
  {
   "cell_type": "code",
   "execution_count": 9,
   "id": "d123133e-ce22-424f-b46b-ea8a9a09bcb8",
   "metadata": {},
   "outputs": [
    {
     "data": {
      "text/plain": [
       "(1, 40645, 10)"
      ]
     },
     "execution_count": 9,
     "metadata": {},
     "output_type": "execute_result"
    }
   ],
   "source": [
    "formf_jax.shape"
   ]
  },
  {
   "cell_type": "code",
   "execution_count": null,
   "id": "fbb2a3dc-e2cf-4282-84e8-af2bb5356d40",
   "metadata": {},
   "outputs": [],
   "source": []
  },
  {
   "cell_type": "code",
   "execution_count": null,
   "id": "e6ae8e5c-7772-4d4a-b36b-f6e209abb9f4",
   "metadata": {},
   "outputs": [],
   "source": []
  },
  {
   "cell_type": "code",
   "execution_count": null,
   "id": "9c46fa1d-c3dc-4d80-85d0-4150c1c9543e",
   "metadata": {},
   "outputs": [],
   "source": []
  },
  {
   "cell_type": "code",
   "execution_count": null,
   "id": "96ef0499-be9d-49b4-8cea-44a86bcaaaaf",
   "metadata": {},
   "outputs": [],
   "source": []
  },
  {
   "cell_type": "code",
   "execution_count": null,
   "id": "cc51b287-6e1c-410d-85bf-be0b9e57ee52",
   "metadata": {},
   "outputs": [],
   "source": []
  },
  {
   "cell_type": "code",
   "execution_count": null,
   "id": "21ce2010-65c1-48e7-972d-6ed77f8e3ae5",
   "metadata": {},
   "outputs": [],
   "source": []
  },
  {
   "cell_type": "code",
   "execution_count": null,
   "id": "d498fee5-d403-4601-bb11-c42bd6f3a0ae",
   "metadata": {},
   "outputs": [],
   "source": []
  },
  {
   "cell_type": "code",
   "execution_count": null,
   "id": "a8cc369c-6d0c-4330-8a9c-c7d975c7c599",
   "metadata": {},
   "outputs": [],
   "source": []
  },
  {
   "cell_type": "code",
   "execution_count": null,
   "id": "c8804032-764a-4776-bfdb-387464a41ed7",
   "metadata": {},
   "outputs": [],
   "source": []
  },
  {
   "cell_type": "code",
   "execution_count": null,
   "id": "fb46c243-fe3e-48c2-ad66-293196c51085",
   "metadata": {},
   "outputs": [],
   "source": []
  },
  {
   "cell_type": "code",
   "execution_count": null,
   "id": "afcdef1a-f2b9-4aeb-af50-260e490288ba",
   "metadata": {},
   "outputs": [],
   "source": []
  }
 ],
 "metadata": {
  "kernelspec": {
   "display_name": "Python 3 (ipykernel)",
   "language": "python",
   "name": "python3"
  },
  "language_info": {
   "codemirror_mode": {
    "name": "ipython",
    "version": 3
   },
   "file_extension": ".py",
   "mimetype": "text/x-python",
   "name": "python",
   "nbconvert_exporter": "python",
   "pygments_lexer": "ipython3",
   "version": "3.10.6"
  }
 },
 "nbformat": 4,
 "nbformat_minor": 5
}
