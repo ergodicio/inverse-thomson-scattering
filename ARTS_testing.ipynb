{
 "cells": [
  {
   "cell_type": "code",
   "execution_count": null,
   "id": "ce982b97-64e8-4f0a-a523-56707b64cdfd",
   "metadata": {},
   "outputs": [],
   "source": [
    "import sys\n",
    "!{sys.executable} -m pip install -r requirements.txt"
   ]
  },
  {
   "cell_type": "code",
   "execution_count": 1,
   "id": "28f183f8-b04c-43a0-94fb-0f688e27d43e",
   "metadata": {},
   "outputs": [
    {
     "name": "stdout",
     "output_type": "stream",
     "text": [
      "IAW data not loaded, omitting IAW fit\n"
     ]
    },
    {
     "ename": "TypeError",
     "evalue": "'int' object is not iterable",
     "output_type": "error",
     "traceback": [
      "\u001b[0;31m---------------------------------------------------------------------------\u001b[0m",
      "\u001b[0;31mTypeError\u001b[0m                                 Traceback (most recent call last)",
      "File \u001b[0;32m~/private/inverse-thomson-scattering/run.py:98\u001b[0m, in \u001b[0;36m<module>\u001b[0;34m\u001b[0m\n\u001b[1;32m     96\u001b[0m t0 \u001b[38;5;241m=\u001b[39m time\u001b[38;5;241m.\u001b[39mtime()\n\u001b[1;32m     97\u001b[0m \u001b[38;5;66;03m# mlflow.log_params(flatten(config))\u001b[39;00m\n\u001b[0;32m---> 98\u001b[0m fit_results \u001b[38;5;241m=\u001b[39m \u001b[43mdatafitter\u001b[49m\u001b[38;5;241;43m.\u001b[39;49m\u001b[43mfit\u001b[49m\u001b[43m(\u001b[49m\u001b[43mconfig\u001b[49m\u001b[38;5;241;43m=\u001b[39;49m\u001b[43mconfig\u001b[49m\u001b[43m)\u001b[49m\n\u001b[1;32m     99\u001b[0m metrics_dict \u001b[38;5;241m=\u001b[39m {\u001b[38;5;124m\"\u001b[39m\u001b[38;5;124mdatafitter_time\u001b[39m\u001b[38;5;124m\"\u001b[39m: time\u001b[38;5;241m.\u001b[39mtime() \u001b[38;5;241m-\u001b[39m t0, \u001b[38;5;124m\"\u001b[39m\u001b[38;5;124mnum_cores\u001b[39m\u001b[38;5;124m\"\u001b[39m: \u001b[38;5;28mint\u001b[39m(mp\u001b[38;5;241m.\u001b[39mcpu_count())}\n\u001b[1;32m    100\u001b[0m mlflow\u001b[38;5;241m.\u001b[39mlog_metrics(metrics\u001b[38;5;241m=\u001b[39mmetrics_dict)\n",
      "File \u001b[0;32m~/private/inverse-thomson-scattering/inverse_thomson_scattering/datafitter.py:208\u001b[0m, in \u001b[0;36mfit\u001b[0;34m(config)\u001b[0m\n\u001b[1;32m    205\u001b[0m \u001b[38;5;66;03m# (span must be odd)\u001b[39;00m\n\u001b[1;32m    207\u001b[0m \u001b[38;5;28;01mif\u001b[39;00m config[\u001b[38;5;124m\"\u001b[39m\u001b[38;5;124mD\u001b[39m\u001b[38;5;124m\"\u001b[39m][\u001b[38;5;124m\"\u001b[39m\u001b[38;5;124mextraoptions\u001b[39m\u001b[38;5;124m\"\u001b[39m][\u001b[38;5;124m\"\u001b[39m\u001b[38;5;124mload_ele_spec\u001b[39m\u001b[38;5;124m\"\u001b[39m]:\n\u001b[0;32m--> 208\u001b[0m     LineoutTSE \u001b[38;5;241m=\u001b[39m [\n\u001b[1;32m    209\u001b[0m         np\u001b[38;5;241m.\u001b[39mmean(elecData[:, a \u001b[38;5;241m-\u001b[39m config[\u001b[38;5;124m\"\u001b[39m\u001b[38;5;124mdpixel\u001b[39m\u001b[38;5;124m\"\u001b[39m] : a \u001b[38;5;241m+\u001b[39m config[\u001b[38;5;124m\"\u001b[39m\u001b[38;5;124mdpixel\u001b[39m\u001b[38;5;124m\"\u001b[39m]], axis\u001b[38;5;241m=\u001b[39m\u001b[38;5;241m1\u001b[39m) \u001b[38;5;28;01mfor\u001b[39;00m a \u001b[38;5;129;01min\u001b[39;00m LineoutPixelE\n\u001b[1;32m    210\u001b[0m         \u001b[38;5;66;03m#np.mean(elecData_bsub[:, a - config[\"dpixel\"] : a + config[\"dpixel\"]], axis=1) for a in LineoutPixelE\u001b[39;00m\n\u001b[1;32m    211\u001b[0m     ]\n\u001b[1;32m    212\u001b[0m     LineoutTSE_smooth \u001b[38;5;241m=\u001b[39m [\n\u001b[1;32m    213\u001b[0m         np\u001b[38;5;241m.\u001b[39mconvolve(LineoutTSE[i], np\u001b[38;5;241m.\u001b[39mones(span) \u001b[38;5;241m/\u001b[39m span, \u001b[38;5;124m\"\u001b[39m\u001b[38;5;124msame\u001b[39m\u001b[38;5;124m\"\u001b[39m) \u001b[38;5;28;01mfor\u001b[39;00m i, _ \u001b[38;5;129;01min\u001b[39;00m \u001b[38;5;28menumerate\u001b[39m(LineoutPixelE)\n\u001b[1;32m    214\u001b[0m     ]\n\u001b[1;32m    216\u001b[0m \u001b[38;5;28;01mif\u001b[39;00m config[\u001b[38;5;124m\"\u001b[39m\u001b[38;5;124mD\u001b[39m\u001b[38;5;124m\"\u001b[39m][\u001b[38;5;124m\"\u001b[39m\u001b[38;5;124mextraoptions\u001b[39m\u001b[38;5;124m\"\u001b[39m][\u001b[38;5;124m\"\u001b[39m\u001b[38;5;124mload_ion_spec\u001b[39m\u001b[38;5;124m\"\u001b[39m]:\n",
      "\u001b[0;31mTypeError\u001b[0m: 'int' object is not iterable"
     ]
    }
   ],
   "source": [
    "run run.py"
   ]
  },
  {
   "cell_type": "code",
   "execution_count": null,
   "id": "af0d221b-de49-4e62-984e-95b196398342",
   "metadata": {},
   "outputs": [],
   "source": []
  }
 ],
 "metadata": {
  "kernelspec": {
   "display_name": "Python 3 (ipykernel)",
   "language": "python",
   "name": "python3"
  },
  "language_info": {
   "codemirror_mode": {
    "name": "ipython",
    "version": 3
   },
   "file_extension": ".py",
   "mimetype": "text/x-python",
   "name": "python",
   "nbconvert_exporter": "python",
   "pygments_lexer": "ipython3",
   "version": "3.10.5"
  }
 },
 "nbformat": 4,
 "nbformat_minor": 5
}
