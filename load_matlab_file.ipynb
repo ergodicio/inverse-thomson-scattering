{
 "cells": [
  {
   "cell_type": "code",
   "execution_count": 11,
   "id": "808e9450-e3f5-442b-adf2-92c1b61e050a",
   "metadata": {
    "pycharm": {
     "name": "#%%\n"
    }
   },
   "outputs": [],
   "source": [
    "import scipy.io as sio\n",
    "import numpy as np"
   ]
  },
  {
   "cell_type": "code",
   "execution_count": 3,
   "id": "1130ef2b-d2db-4c11-8116-9ea38cc56635",
   "metadata": {
    "pycharm": {
     "name": "#%%\n"
    }
   },
   "outputs": [],
   "source": [
    "mat_contents = sio.loadmat(\"./IAW-s101676.mat\")"
   ]
  },
  {
   "cell_type": "code",
   "execution_count": 13,
   "id": "e5a720bb-07ea-43c9-aedf-04e93f686873",
   "metadata": {
    "pycharm": {
     "name": "#%%\n"
    }
   },
   "outputs": [
    {
     "data": {
      "text/plain": [
       "array([[[ 923.,  929.,  893., ...,  978.,  903.,  913.],\n",
       "        [ 871.,  886.,  912., ...,  911.,  943.,  882.],\n",
       "        [ 871.,  881., 1021., ...,  923.,  871.,  910.],\n",
       "        ...,\n",
       "        [ 888.,  958.,  875., ...,  964.,  982.,  979.],\n",
       "        [ 904.,  918.,  920., ...,  954.,  926.,  957.],\n",
       "        [ 880.,  902.,  894., ...,  941.,  910.,  949.]],\n",
       "\n",
       "       [[ 960.,  921.,  879., ...,  936.,  970.,  913.],\n",
       "        [ 874.,  923.,  898., ...,  911.,  908.,  913.],\n",
       "        [ 878.,  870.,  930., ...,  961.,  899.,  914.],\n",
       "        ...,\n",
       "        [ 898.,  949.,  911., ...,  940.,  946.,  958.],\n",
       "        [ 916.,  945.,  922., ...,  991.,  922.,  906.],\n",
       "        [ 906.,  935.,  896., ...,  914.,  914.,  952.]]])"
      ]
     },
     "execution_count": 13,
     "metadata": {},
     "output_type": "execute_result"
    }
   ],
   "source": [
    "np.array(mat_contents[\"ionData\"], dtype=np.float64)"
   ]
  },
  {
   "cell_type": "code",
   "execution_count": null,
   "id": "0bd2dc6d-eb27-4da9-832c-46d623961720",
   "metadata": {
    "pycharm": {
     "name": "#%%\n"
    }
   },
   "outputs": [],
   "source": []
  }
 ],
 "metadata": {
  "kernelspec": {
   "display_name": "Python 3 (ipykernel)",
   "language": "python",
   "name": "python3"
  },
  "language_info": {
   "codemirror_mode": {
    "name": "ipython",
    "version": 3
   },
   "file_extension": ".py",
   "mimetype": "text/x-python",
   "name": "python",
   "nbconvert_exporter": "python",
   "pygments_lexer": "ipython3",
   "version": "3.10.5"
  }
 },
 "nbformat": 4,
 "nbformat_minor": 5
}